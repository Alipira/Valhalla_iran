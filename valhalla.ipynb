{
 "cells": [
  {
   "cell_type": "code",
   "execution_count": null,
   "metadata": {},
   "outputs": [],
   "source": [
    "import requests\n",
    "import json\n",
    "import os\n",
    "import pandas as pd\n",
    "import numpy as np\n",
    "\n",
    "from loguru import logger"
   ]
  },
  {
   "cell_type": "code",
   "execution_count": null,
   "metadata": {},
   "outputs": [],
   "source": [
    "def calculate_distance_matrix(locations):\n",
    "    url = \"http://192.168.62.107:8002/route\"\n",
    "\n",
    "    # Prepare the JSON payload for Valhalla\n",
    "    payload = {\n",
    "        \"locations\": locations,\n",
    "        \"costing\": \"auto\",\n",
    "        \"directions_options\": {\"units\": \"kilometers\"},\n",
    "        \"matrix_type\": \"one_to_many\",\n",
    "    }\n",
    "\n",
    "    # Make the HTTP POST request to Valhalla\n",
    "    response = requests.post(url, json=payload)\n",
    "\n",
    "    # Check if the request was successful\n",
    "    if response.status_code == 200:\n",
    "        try:\n",
    "            distance = response.json()['trip']['summary']['length']\n",
    "            return distance\n",
    "        except KeyError:\n",
    "            print(\"Error: 'distance' key not found in the response.\")\n",
    "            return None\n",
    "    else:\n",
    "\n",
    "        print(f\"Error {response.status_code}: {response.text}\")\n",
    "        return None"
   ]
  },
  {
   "cell_type": "code",
   "execution_count": null,
   "metadata": {},
   "outputs": [],
   "source": [
    "cust_loc = np.zeros(shape=(300, 2), dtype=np.float32)\n",
    "\n",
    "for i, item in enumerate(ge_list[0: 300]):\n",
    "    cust_loc[i, 0] = item['lat']\n",
    "    cust_loc[i, 1] = item['lon']\n",
    "\n",
    "np.save('../data/loc', cust_loc)"
   ]
  },
  {
   "cell_type": "code",
   "execution_count": null,
   "metadata": {},
   "outputs": [],
   "source": [
    "n = len(ge_list[0: 300])\n",
    "distance_matrix = np.zeros((n, n), dtype=np.float32)\n",
    "batchsize = 100\n",
    "\n",
    "for i in tqdm(range(0, n, batchsize)):\n",
    "    for j in range(0, n, batchsize):\n",
    "        matrix = np.zeros(shape=(batchsize, batchsize), dtype=np.float32)\n",
    "        location_i = ge_list[i: min(i + batchsize, n)]\n",
    "        location_j = ge_list[j: min(j + batchsize, n)]\n",
    "        for idx_i, loc_i in enumerate(location_i):\n",
    "            for idx_j, loc_j in enumerate(location_j):\n",
    "                matrix[idx_i, idx_j] = calculate_distance_matrix([loc_i, loc_j])\n",
    "        distance_matrix[i: min(i + batchsize, n), j: min(j + batchsize, n)] = matrix"
   ]
  }
 ],
 "metadata": {
  "language_info": {
   "name": "python"
  }
 },
 "nbformat": 4,
 "nbformat_minor": 2
}
